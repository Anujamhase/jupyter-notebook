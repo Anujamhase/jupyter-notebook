{
 "cells": [
  {
   "cell_type": "code",
   "execution_count": 2,
   "id": "201b2da5",
   "metadata": {},
   "outputs": [
    {
     "name": "stdout",
     "output_type": "stream",
     "text": [
      "2 3 5 7 11 13 17 19 23 29 31 37 41 43 47 53 59 61 67 71 73 79 83 89 97 "
     ]
    }
   ],
   "source": [
    "'''Q3.write a program to print all the prime numbers till 100 '''\n",
    "for Number in range(1,101):\n",
    "    count=0\n",
    "    for i in range(2,(Number//2 + 1)):\n",
    "        if(Number%i==0):\n",
    "            count=count+1\n",
    "            break\n",
    "            \n",
    "    if(count==0 and Number!=1):\n",
    "        print(\"%d\"%Number,end=' ')"
   ]
  },
  {
   "cell_type": "code",
   "execution_count": 4,
   "id": "12b2441f",
   "metadata": {},
   "outputs": [
    {
     "name": "stdout",
     "output_type": "stream",
     "text": [
      "Enter a String :pdh\n",
      "Enter no. of characters to be shifted :6\n",
      "vjn\n"
     ]
    }
   ],
   "source": [
    "'''Q2. 1. Input -\n",
    "                 String -xyz\n",
    "                 Integer- 4\n",
    "          Output - \n",
    "                String - bcd\n",
    "       2. Input\n",
    "               String = pdh\n",
    "               integer = 6\n",
    "          Output\n",
    "               String = vjn\n",
    "'''\n",
    "import string\n",
    "def Character_Shift(wrd,n): #function to accept string and shift it n characters\n",
    "    alpha=string.ascii_lowercase\n",
    "    new_word=''\n",
    "    for char in wrd:\n",
    "        indx=alpha.index(char)\n",
    "        indx=(indx+n)%26\n",
    "        new_word=new_word+(alpha[indx])\n",
    "    return new_word\n",
    "\n",
    "word=input(\"Enter a String :\")\n",
    "shft=int(input(\"Enter no. of characters to be shifted :\"))\n",
    "print(Character_Shift(word,shft))"
   ]
  },
  {
   "cell_type": "code",
   "execution_count": 5,
   "id": "73695f0a",
   "metadata": {},
   "outputs": [
    {
     "name": "stdout",
     "output_type": "stream",
     "text": [
      "Please enter the Total Number of List Elements: 5\n",
      "Please enter the Value of 1 Element : 4\n",
      "Please enter the Value of 2 Element : 45\n",
      "Please enter the Value of 3 Element : 2\n",
      "Please enter the Value of 4 Element : 45\n",
      "Please enter the Value of 5 Element : 65\n",
      "The Smallest Element in this List is :  2\n",
      "The Largest Element in this List is :  65\n"
     ]
    }
   ],
   "source": [
    "'''Q1.Input a list from the user, and add the elements in the list \n",
    "    and return the largest and smallest in that list.'''\n",
    "NumList = []\n",
    "Number = int(input(\"Please enter the Total Number of List Elements: \"))\n",
    "for i in range(1, Number + 1):\n",
    "    value = int(input(\"Please enter the Value of %d Element : \" %i))\n",
    "    NumList.append(value)\n",
    "\n",
    "print(\"The Smallest Element in this List is : \", min(NumList))\n",
    "print(\"The Largest Element in this List is : \", max(NumList))\n"
   ]
  },
  {
   "cell_type": "code",
   "execution_count": null,
   "id": "75d43f32",
   "metadata": {},
   "outputs": [],
   "source": []
  }
 ],
 "metadata": {
  "kernelspec": {
   "display_name": "Python 3",
   "language": "python",
   "name": "python3"
  },
  "language_info": {
   "codemirror_mode": {
    "name": "ipython",
    "version": 3
   },
   "file_extension": ".py",
   "mimetype": "text/x-python",
   "name": "python",
   "nbconvert_exporter": "python",
   "pygments_lexer": "ipython3",
   "version": "3.8.8"
  }
 },
 "nbformat": 4,
 "nbformat_minor": 5
}
